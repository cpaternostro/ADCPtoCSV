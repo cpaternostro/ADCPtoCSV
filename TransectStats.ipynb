{
 "cells": [
  {
   "cell_type": "code",
   "execution_count": 1,
   "metadata": {},
   "outputs": [],
   "source": [
    "import glob\n",
    "import os\n",
    "import numpy as np\n",
    "import pandas as pd\n",
    "import datetime as dtt\n"
   ]
  },
  {
   "cell_type": "code",
   "execution_count": 2,
   "metadata": {},
   "outputs": [
    {
     "data": {
      "text/plain": [
       "['output/CharlestonHarbor\\\\ChHarb_00_ASC.TXT_alldata.csv',\n",
       " 'output/CharlestonHarbor\\\\ChHarb_01_ASC.TXT_alldata.csv',\n",
       " 'output/CharlestonHarbor\\\\ChHarb_03_ASC.TXT_alldata.csv',\n",
       " 'output/CharlestonHarbor\\\\ChHarb_05_ASC.TXT_alldata.csv']"
      ]
     },
     "execution_count": 2,
     "metadata": {},
     "output_type": "execute_result"
    }
   ],
   "source": [
    "#grab all files with csv extension\n",
    "csvsuffix = \"_ASC.TXT_alldata.csv\"\n",
    "csvprefix = \"output/CharlestonHarbor/\"\n",
    "csv_files = glob.glob(csvprefix + \"*\" + csvsuffix)\n",
    "csv_files"
   ]
  },
  {
   "cell_type": "code",
   "execution_count": 3,
   "metadata": {},
   "outputs": [
    {
     "name": "stdout",
     "output_type": "stream",
     "text": [
      "writing bin statistics for output/CharlestonHarbor\\ChHarb_00-stats.csv\n",
      "writing bin statistics for output/CharlestonHarbor\\ChHarb_01-stats.csv\n",
      "writing bin statistics for output/CharlestonHarbor\\ChHarb_03-stats.csv\n",
      "writing bin statistics for output/CharlestonHarbor\\ChHarb_05-stats.csv\n"
     ]
    }
   ],
   "source": [
    "# Main loop to do everything on each csv file\n",
    "for file in csv_files:\n",
    "\tdata = pd.read_csv(file)  # Read in the data\n",
    "\t\n",
    "\t# Declare the datatime column to be datetime\n",
    "\tdata['datetime']=pd.to_datetime(data['datetime'])\n",
    "\t# data[data.loc[:,\"vmag\"] < 0] = 0  # don't do this, b/c 0 is a number\n",
    "\t# Do this instead, drop the rows that have the value -32768.00 in the vmag column from the dataframe\n",
    "\t# I don't know why WinRiver's NaN value is -32768.00 but it is\n",
    "\tdata.drop(data[data[\"vmag\"] == -32768.00].index, inplace=True)\n",
    "\n",
    "\t# Generate the describe() stats for the following variables grouped by depth_bin\n",
    "\tstatsdata = data[[\"depth_bin\",\"vmag\",\"vdir\",\"verr\"]].groupby(\"depth_bin\").describe()\n",
    "\t\n",
    "\toutfile = file.replace(csvsuffix, \"-stats.csv\")\n",
    "\tprint(\"writing bin statistics for\", outfile)\n",
    "\tstatsdata.to_csv(outfile)"
   ]
  }
 ],
 "metadata": {
  "kernelspec": {
   "display_name": "Python 3.8.13 ('base')",
   "language": "python",
   "name": "python3"
  },
  "language_info": {
   "codemirror_mode": {
    "name": "ipython",
    "version": 3
   },
   "file_extension": ".py",
   "mimetype": "text/x-python",
   "name": "python",
   "nbconvert_exporter": "python",
   "pygments_lexer": "ipython3",
   "version": "3.8.13"
  },
  "orig_nbformat": 4,
  "vscode": {
   "interpreter": {
    "hash": "7275e8dc536ad48c6ccadff1c11861a155eb4f38a618e1f6fdeac39e2092f7ec"
   }
  }
 },
 "nbformat": 4,
 "nbformat_minor": 2
}
