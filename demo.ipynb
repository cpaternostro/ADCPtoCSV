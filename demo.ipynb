{
 "cells": [
  {
   "cell_type": "code",
   "execution_count": null,
   "metadata": {
    "collapsed": true
   },
   "outputs": [
    {
     "ename": "",
     "evalue": "",
     "output_type": "error",
     "traceback": [
      "\u001b[1;31mRunning cells with 'Python 3.5.6 ('py35')' requires ipykernel package.\n",
      "\u001b[1;31mRun the following command to install 'ipykernel' into the Python environment. \n",
      "\u001b[1;31mCommand: 'conda install -n py35 ipykernel --update-deps --force-reinstall'"
     ]
    }
   ],
   "source": [
    "import glob\n",
    "import datetime as dt\n",
    "import os\n",
    "import numpy as np\n",
    "import pandas as pd\n",
    "import matplotlib.pyplot as plt\n",
    "# import xarray as xr\n",
    "\n",
    "%matplotlib inline"
   ]
  },
  {
   "cell_type": "markdown",
   "metadata": {},
   "source": [
    "TOP"
   ]
  },
  {
   "cell_type": "code",
   "execution_count": null,
   "metadata": {
    "collapsed": false
   },
   "outputs": [
    {
     "ename": "",
     "evalue": "",
     "output_type": "error",
     "traceback": [
      "\u001b[1;31mRunning cells with 'Python 3.5.6 ('py35')' requires ipykernel package.\n",
      "\u001b[1;31mRun the following command to install 'ipykernel' into the Python environment. \n",
      "\u001b[1;31mCommand: 'conda install -n py35 ipykernel --update-deps --force-reinstall'"
     ]
    }
   ],
   "source": [
    "ascii_files = glob.glob('*ASC*')\n",
    "ascii_files"
   ]
  },
  {
   "cell_type": "code",
   "execution_count": null,
   "metadata": {
    "collapsed": false
   },
   "outputs": [
    {
     "ename": "",
     "evalue": "",
     "output_type": "error",
     "traceback": [
      "\u001b[1;31mRunning cells with 'Python 3.5.6 ('py35')' requires ipykernel package.\n",
      "\u001b[1;31mRun the following command to install 'ipykernel' into the Python environment. \n",
      "\u001b[1;31mCommand: 'conda install -n py35 ipykernel --update-deps --force-reinstall'"
     ]
    }
   ],
   "source": [
    "columns = ['datetime', 'ensemble_number', 'number_of_ensembles', \n",
    "           'pitch', 'roll', 'corrected_heading', 'adcp_temp']\n",
    "columns += ['v_bt_x', 'v_bt_y', 'v_bt_z', 'v_bt_err', \n",
    "            'depth_snd', 'gga_alt', 'gga_dalt', 'gga_hdop',\n",
    "            'depth_beam1', 'depth_beam2', 'depth_beam3', 'depth_beam4']\n",
    "columns += ['total_elapsed_dist', 'total_elapsed_time', 'total_dist_n', 'total_dist_e', 'total_dist_mg']\n",
    "columns += ['lat', 'lon', 'invalid', 'fixed_value_not_used']\n",
    "columns += ['Q_middle', 'Q_top', 'Q_bot', \n",
    "            'start_shore_dist_est', 'start_dist', 'end_shore_dist_est', 'end_dist',\n",
    "            'start_depth', 'end_depth']\n",
    "columns += ['nbins', 'unit', 'vel_ref', 'intensity_units', 'intensity_scale_fac', 'sound_abs_fac']\n",
    "columns"
   ]
  },
  {
   "cell_type": "code",
   "execution_count": null,
   "metadata": {
    "collapsed": true
   },
   "outputs": [
    {
     "ename": "",
     "evalue": "",
     "output_type": "error",
     "traceback": [
      "\u001b[1;31mRunning cells with 'Python 3.5.6 ('py35')' requires ipykernel package.\n",
      "\u001b[1;31mRun the following command to install 'ipykernel' into the Python environment. \n",
      "\u001b[1;31mCommand: 'conda install -n py35 ipykernel --update-deps --force-reinstall'"
     ]
    }
   ],
   "source": [
    "df_cols = ['depth', 'vmag', 'vdir', 'vx', 'vy', 'vz', 'verr', 'bs1', 'bs2', 'bs3', 'bs4', 'pctg', 'Q']"
   ]
  },
  {
   "cell_type": "markdown",
   "metadata": {},
   "source": [
    "Definitions"
   ]
  },
  {
   "cell_type": "code",
   "execution_count": null,
   "metadata": {
    "collapsed": true
   },
   "outputs": [
    {
     "ename": "",
     "evalue": "",
     "output_type": "error",
     "traceback": [
      "\u001b[1;31mRunning cells with 'Python 3.5.6 ('py35')' requires ipykernel package.\n",
      "\u001b[1;31mRun the following command to install 'ipykernel' into the Python environment. \n",
      "\u001b[1;31mCommand: 'conda install -n py35 ipykernel --update-deps --force-reinstall'"
     ]
    }
   ],
   "source": [
    "def parse_header(f):\n",
    "    row1 = next(f).strip().split()\n",
    "    row1[0] = '20' + row1[0] if '20' not in row1[0] else row1[0]\n",
    "    dt = pd.datetime(*tuple(map(int, row1[:6])), int(int(row1[6]) * 1e4))\n",
    "    dt64 = np.datetime64(dt)\n",
    "    ensemble_number, ne = map(int, row1[7:9])\n",
    "\n",
    "    data = [dt] + [ensemble_number, ne] + list(map(float, row1[9:]))\n",
    "    for i in range(4):\n",
    "        data += list(map(float, next(f).strip().split()))\n",
    "    row6 = next(f).strip().split()\n",
    "    nbins = int(row6[0])\n",
    "    data += row6[1:4]\n",
    "    data += list(map(float, row6[4:]))\n",
    "    return ensemble_number, data, nbins, dt\n",
    "\n",
    "def ascii2pd(ascii_file, make_geometries=False):\n",
    "    f = open(ascii_file)\n",
    "    while True:\n",
    "        line = next(f).strip().split()\n",
    "        if len(line) == 0:\n",
    "            continue\n",
    "        else:\n",
    "            break\n",
    "    file_info = map(int, line)\n",
    "    depth_cell_len, blank_after_transmit, adcp_depth_from_cn, n_depth_cells, n_pings, dt, mode = file_info\n",
    "    \n",
    "    data = {}\n",
    "    dfs = {}\n",
    "    \n",
    "    try:\n",
    "        while True:\n",
    "            n, d, nbins, dt = parse_header(f)\n",
    "            data[n] = d\n",
    "            df = pd.DataFrame([map(float, next(f).strip().split()) for b in range(nbins)], columns=df_cols)\n",
    "            #df.index = df.depth\n",
    "            dfs[dt] = df\n",
    "    except StopIteration:\n",
    "        pass\n",
    "    \n",
    "    df = pd.DataFrame.from_dict(data, orient='index')\n",
    "    df.columns = columns\n",
    "    df.index = pd.to_datetime(df.datetime)\n",
    "\n",
    "    if make_geometries:\n",
    "        df['geometry'] = [Point(r.lon, r.lat) for i, r in df.iterrows()]\n",
    "        df['geometry'] = projectdf(df, '+init=epsg:4269', '+init=epsg:26715')\n",
    "        df['X'] = [p.x for p in df.geometry]\n",
    "        df['Y'] = [p.y for p in df.geometry]\n",
    "    else:\n",
    "        df['X'] = df.lon\n",
    "        df['Y'] = df.lat\n",
    "    \n",
    "    # make a data panel of the velocity data\n",
    "    pn = pd.Panel(dfs)  # this line doesn't work right. With Python 3.6 it \n",
    " \n",
    "    return df, pn\n",
    "\n",
    "def stack(df, pn, vmin, vmax, freq, make_geometries=False):\n",
    "    pnr = pn.dropna(axis='columns', how='all').resample(freq, axis=0).mean().copy()\n",
    "\n",
    "    inds = (pnr.ix[:, :, 'vx'].values < vmin) | (pnr.ix[:, :, 'vx'].values > vmax)\n",
    "    pnrs = pnr.copy()\n",
    "    pnrs.ix[:, :, 'vx'].mask(inds, inplace=True)\n",
    "    pnrs.ix[:, :, 'vy'].mask(inds, inplace=True)\n",
    "\n",
    "    dfr = df[['X', 'Y', 'datetime']].resample(freq).mean()\n",
    "    if make_geometries:\n",
    "        dfr['geometry'] = [Point(r.X, r.Y) for i, r in dfr.iterrows()]\n",
    "    dfr['vx'] = pnrs.ix[:, :, 'vx'].mean()\n",
    "    dfr['vy'] = pnrs.ix[:, :, 'vy'].mean()\n",
    "    dfr.dropna(axis=0, inplace=True)\n",
    "    return dfr"
   ]
  },
  {
   "cell_type": "markdown",
   "metadata": {},
   "source": [
    "### Read in each file and output the results to csv files"
   ]
  },
  {
   "cell_type": "code",
   "execution_count": null,
   "metadata": {
    "collapsed": false
   },
   "outputs": [
    {
     "ename": "",
     "evalue": "",
     "output_type": "error",
     "traceback": [
      "\u001b[1;31mRunning cells with 'Python 3.5.6 ('py35')' requires ipykernel package.\n",
      "\u001b[1;31mRun the following command to install 'ipykernel' into the Python environment. \n",
      "\u001b[1;31mCommand: 'conda install -n py35 ipykernel --update-deps --force-reinstall'"
     ]
    }
   ],
   "source": [
    "outpath = 'output'\n",
    "if not os.path.isdir(outpath):\n",
    "    os.makedirs(outpath)\n",
    "ascii_files\n",
    "for ascii_file in ascii_files:\n",
    "    if os.path.getsize(ascii_file) == 0:\n",
    "        continue\n",
    "    print(ascii_file)\n",
    "    df, pn = ascii2pd(ascii_file)  # this line is the problem as it tries to create pn in the function above\n",
    "    dfr = stack(df, pn, vmin=-1000, vmax=1000, freq='10s')\n",
    "    \n",
    "    # flatten the panel to a dataframe\n",
    "    dfall = pn.swapaxes(0, 2).to_frame()\n",
    "    \n",
    "    # write the csvs\n",
    "    dfall.to_csv('{}_alldata.csv'.format(ascii_file))\n",
    "    df.to_csv('{}_header_info.csv'.format(ascii_file), index=False)"
   ]
  },
  {
   "cell_type": "markdown",
   "metadata": {},
   "source": [
    "### Dataframe of header information"
   ]
  },
  {
   "cell_type": "code",
   "execution_count": null,
   "metadata": {
    "collapsed": false
   },
   "outputs": [
    {
     "ename": "",
     "evalue": "",
     "output_type": "error",
     "traceback": [
      "\u001b[1;31mRunning cells with 'Python 3.5.6 ('py35')' requires ipykernel package.\n",
      "\u001b[1;31mRun the following command to install 'ipykernel' into the Python environment. \n",
      "\u001b[1;31mCommand: 'conda install -n py35 ipykernel --update-deps --force-reinstall'"
     ]
    }
   ],
   "source": [
    "df.head()"
   ]
  },
  {
   "cell_type": "code",
   "execution_count": null,
   "metadata": {
    "collapsed": false
   },
   "outputs": [
    {
     "ename": "",
     "evalue": "",
     "output_type": "error",
     "traceback": [
      "\u001b[1;31mRunning cells with 'Python 3.5.6 ('py35')' requires ipykernel package.\n",
      "\u001b[1;31mRun the following command to install 'ipykernel' into the Python environment. \n",
      "\u001b[1;31mCommand: 'conda install -n py35 ipykernel --update-deps --force-reinstall'"
     ]
    }
   ],
   "source": [
    "df.columns"
   ]
  },
  {
   "cell_type": "markdown",
   "metadata": {},
   "source": [
    "### panel of backscatter data"
   ]
  },
  {
   "cell_type": "code",
   "execution_count": null,
   "metadata": {
    "collapsed": false
   },
   "outputs": [
    {
     "ename": "",
     "evalue": "",
     "output_type": "error",
     "traceback": [
      "\u001b[1;31mRunning cells with 'Python 3.5.6 ('py35')' requires ipykernel package.\n",
      "\u001b[1;31mRun the following command to install 'ipykernel' into the Python environment. \n",
      "\u001b[1;31mCommand: 'conda install -n py35 ipykernel --update-deps --force-reinstall'"
     ]
    }
   ],
   "source": [
    "pn.axes"
   ]
  },
  {
   "cell_type": "code",
   "execution_count": null,
   "metadata": {
    "collapsed": false
   },
   "outputs": [
    {
     "ename": "",
     "evalue": "",
     "output_type": "error",
     "traceback": [
      "\u001b[1;31mRunning cells with 'Python 3.5.6 ('py35')' requires ipykernel package.\n",
      "\u001b[1;31mRun the following command to install 'ipykernel' into the Python environment. \n",
      "\u001b[1;31mCommand: 'conda install -n py35 ipykernel --update-deps --force-reinstall'"
     ]
    }
   ],
   "source": [
    "fig, ax = plt.subplots(figsize=(20, 5))\n",
    "plt.imshow(pn.ix[:, :10., 'vy'], vmin=-10, vmax=10, interpolation='None')\n",
    "plt.gca().set_aspect(500)\n",
    "plt.colorbar()"
   ]
  },
  {
   "cell_type": "markdown",
   "metadata": {},
   "source": [
    "### process single ADCP panel"
   ]
  },
  {
   "cell_type": "code",
   "execution_count": null,
   "metadata": {
    "collapsed": false
   },
   "outputs": [
    {
     "ename": "",
     "evalue": "",
     "output_type": "error",
     "traceback": [
      "\u001b[1;31mRunning cells with 'Python 3.5.6 ('py35')' requires ipykernel package.\n",
      "\u001b[1;31mRun the following command to install 'ipykernel' into the Python environment. \n",
      "\u001b[1;31mCommand: 'conda install -n py35 ipykernel --update-deps --force-reinstall'"
     ]
    }
   ],
   "source": [
    "vmin, vmax = -1000, 1000 # valid range of velocities\n",
    "freq = '10s' # resampling frequency\n",
    "\n",
    "pnr = pn.dropna(axis=1, how='all').resample(freq, axis=0).mean().copy()\n",
    "\n",
    "inds = (pnr.ix[:, :, 'vx'].values < vmin) | (pnr.ix[:, :, 'vx'].values > vmax)\n",
    "pnrs = pnr.copy()\n",
    "pnrs.ix[:, :, 'vx'].mask(inds, inplace=True)\n",
    "pnrs.ix[:, :, 'vy'].mask(inds, inplace=True)"
   ]
  },
  {
   "cell_type": "code",
   "execution_count": null,
   "metadata": {
    "collapsed": false
   },
   "outputs": [
    {
     "ename": "",
     "evalue": "",
     "output_type": "error",
     "traceback": [
      "\u001b[1;31mRunning cells with 'Python 3.5.6 ('py35')' requires ipykernel package.\n",
      "\u001b[1;31mRun the following command to install 'ipykernel' into the Python environment. \n",
      "\u001b[1;31mCommand: 'conda install -n py35 ipykernel --update-deps --force-reinstall'"
     ]
    }
   ],
   "source": [
    "bs = pnr.ix[:, :10, ['bs1', 'bs2', 'bs3', 'bs4']].mean(axis=2)\n",
    "bs = pn.ix[:, :10, ['bs1', 'bs2', 'bs3', 'bs4']].mean(axis=2)\n",
    "bs.head()"
   ]
  },
  {
   "cell_type": "code",
   "execution_count": null,
   "metadata": {
    "collapsed": false
   },
   "outputs": [
    {
     "ename": "",
     "evalue": "",
     "output_type": "error",
     "traceback": [
      "\u001b[1;31mRunning cells with 'Python 3.5.6 ('py35')' requires ipykernel package.\n",
      "\u001b[1;31mRun the following command to install 'ipykernel' into the Python environment. \n",
      "\u001b[1;31mCommand: 'conda install -n py35 ipykernel --update-deps --force-reinstall'"
     ]
    }
   ],
   "source": [
    "fig, ax = plt.subplots(figsize=(20, 5))\n",
    "plt.imshow(bs, vmin=70, vmax=100)\n",
    "plt.gca().set_aspect(200)\n",
    "plt.colorbar()"
   ]
  },
  {
   "cell_type": "markdown",
   "metadata": {},
   "source": [
    "### Plot velocity component across panel"
   ]
  },
  {
   "cell_type": "code",
   "execution_count": null,
   "metadata": {
    "collapsed": false
   },
   "outputs": [
    {
     "ename": "",
     "evalue": "",
     "output_type": "error",
     "traceback": [
      "\u001b[1;31mRunning cells with 'Python 3.5.6 ('py35')' requires ipykernel package.\n",
      "\u001b[1;31mRun the following command to install 'ipykernel' into the Python environment. \n",
      "\u001b[1;31mCommand: 'conda install -n py35 ipykernel --update-deps --force-reinstall'"
     ]
    }
   ],
   "source": [
    "fig, ax = plt.subplots(figsize=(20, 5))\n",
    "plt.imshow(pnr.ix[:, :10, 'vy'], vmin=-10, vmax=10)\n",
    "plt.gca().set_aspect(40)\n",
    "plt.colorbar()"
   ]
  },
  {
   "cell_type": "code",
   "execution_count": null,
   "metadata": {
    "collapsed": false
   },
   "outputs": [
    {
     "ename": "",
     "evalue": "",
     "output_type": "error",
     "traceback": [
      "\u001b[1;31mRunning cells with 'Python 3.5.6 ('py35')' requires ipykernel package.\n",
      "\u001b[1;31mRun the following command to install 'ipykernel' into the Python environment. \n",
      "\u001b[1;31mCommand: 'conda install -n py35 ipykernel --update-deps --force-reinstall'"
     ]
    }
   ],
   "source": [
    "fig, ax = plt.subplots(figsize=(20, 5))\n",
    "plt.imshow(pnrs.ix[:, :10, 'vy'], vmin=-10, vmax=10)\n",
    "plt.gca().set_aspect(40)\n",
    "plt.colorbar()"
   ]
  },
  {
   "cell_type": "markdown",
   "metadata": {},
   "source": [
    "### Slice panel to get dataframe of single measurement"
   ]
  },
  {
   "cell_type": "code",
   "execution_count": null,
   "metadata": {
    "collapsed": false
   },
   "outputs": [
    {
     "ename": "",
     "evalue": "",
     "output_type": "error",
     "traceback": [
      "\u001b[1;31mRunning cells with 'Python 3.5.6 ('py35')' requires ipykernel package.\n",
      "\u001b[1;31mRun the following command to install 'ipykernel' into the Python environment. \n",
      "\u001b[1;31mCommand: 'conda install -n py35 ipykernel --update-deps --force-reinstall'"
     ]
    }
   ],
   "source": [
    "pn.ix[:'2016-08-24 19', :, 'vy']"
   ]
  },
  {
   "cell_type": "markdown",
   "metadata": {},
   "source": [
    "### reduce backscatter panel to dataframe "
   ]
  },
  {
   "cell_type": "code",
   "execution_count": null,
   "metadata": {
    "collapsed": false
   },
   "outputs": [
    {
     "ename": "",
     "evalue": "",
     "output_type": "error",
     "traceback": [
      "\u001b[1;31mRunning cells with 'Python 3.5.6 ('py35')' requires ipykernel package.\n",
      "\u001b[1;31mRun the following command to install 'ipykernel' into the Python environment. \n",
      "\u001b[1;31mCommand: 'conda install -n py35 ipykernel --update-deps --force-reinstall'"
     ]
    }
   ],
   "source": [
    "dfall = pn.swapaxes(0, 2).to_frame()\n",
    "dfall.index.levels[0].name = 'depth_bin'\n",
    "dfall.index.levels[1].name = 'datetime'\n",
    "dfall.head()"
   ]
  },
  {
   "cell_type": "markdown",
   "metadata": {},
   "source": [
    "### write dataframe to csv and then read it back in"
   ]
  },
  {
   "cell_type": "code",
   "execution_count": null,
   "metadata": {
    "collapsed": false
   },
   "outputs": [
    {
     "ename": "",
     "evalue": "",
     "output_type": "error",
     "traceback": [
      "\u001b[1;31mRunning cells with 'Python 3.5.6 ('py35')' requires ipykernel package.\n",
      "\u001b[1;31mRun the following command to install 'ipykernel' into the Python environment. \n",
      "\u001b[1;31mCommand: 'conda install -n py35 ipykernel --update-deps --force-reinstall'"
     ]
    }
   ],
   "source": [
    "dfall.to_csv('alldata.csv')"
   ]
  },
  {
   "cell_type": "code",
   "execution_count": null,
   "metadata": {
    "collapsed": true
   },
   "outputs": [
    {
     "ename": "",
     "evalue": "",
     "output_type": "error",
     "traceback": [
      "\u001b[1;31mRunning cells with 'Python 3.5.6 ('py35')' requires ipykernel package.\n",
      "\u001b[1;31mRun the following command to install 'ipykernel' into the Python environment. \n",
      "\u001b[1;31mCommand: 'conda install -n py35 ipykernel --update-deps --force-reinstall'"
     ]
    }
   ],
   "source": [
    "dfall2 = pd.read_csv('alldata.csv')"
   ]
  },
  {
   "cell_type": "code",
   "execution_count": null,
   "metadata": {
    "collapsed": false
   },
   "outputs": [
    {
     "ename": "",
     "evalue": "",
     "output_type": "error",
     "traceback": [
      "\u001b[1;31mRunning cells with 'Python 3.5.6 ('py35')' requires ipykernel package.\n",
      "\u001b[1;31mRun the following command to install 'ipykernel' into the Python environment. \n",
      "\u001b[1;31mCommand: 'conda install -n py35 ipykernel --update-deps --force-reinstall'"
     ]
    }
   ],
   "source": [
    "dfall2.head()"
   ]
  },
  {
   "cell_type": "markdown",
   "metadata": {},
   "source": [
    "### write csv of header information"
   ]
  },
  {
   "cell_type": "code",
   "execution_count": null,
   "metadata": {
    "collapsed": true
   },
   "outputs": [
    {
     "ename": "",
     "evalue": "",
     "output_type": "error",
     "traceback": [
      "\u001b[1;31mRunning cells with 'Python 3.5.6 ('py35')' requires ipykernel package.\n",
      "\u001b[1;31mRun the following command to install 'ipykernel' into the Python environment. \n",
      "\u001b[1;31mCommand: 'conda install -n py35 ipykernel --update-deps --force-reinstall'"
     ]
    }
   ],
   "source": [
    "df.to_csv('header_info.csv', index=False) # write it without the index, since it duplicates the datetime column"
   ]
  },
  {
   "cell_type": "code",
   "execution_count": null,
   "metadata": {
    "collapsed": false
   },
   "outputs": [
    {
     "ename": "",
     "evalue": "",
     "output_type": "error",
     "traceback": [
      "\u001b[1;31mRunning cells with 'Python 3.5.6 ('py35')' requires ipykernel package.\n",
      "\u001b[1;31mRun the following command to install 'ipykernel' into the Python environment. \n",
      "\u001b[1;31mCommand: 'conda install -n py35 ipykernel --update-deps --force-reinstall'"
     ]
    }
   ],
   "source": [
    "df"
   ]
  },
  {
   "cell_type": "code",
   "execution_count": null,
   "metadata": {
    "collapsed": true
   },
   "outputs": [
    {
     "ename": "",
     "evalue": "",
     "output_type": "error",
     "traceback": [
      "\u001b[1;31mRunning cells with 'Python 3.5.6 ('py35')' requires ipykernel package.\n",
      "\u001b[1;31mRun the following command to install 'ipykernel' into the Python environment. \n",
      "\u001b[1;31mCommand: 'conda install -n py35 ipykernel --update-deps --force-reinstall'"
     ]
    }
   ],
   "source": []
  }
 ],
 "metadata": {
  "anaconda-cloud": {},
  "kernelspec": {
   "display_name": "Python 3.5.6 ('py35')",
   "language": "python",
   "name": "python3"
  },
  "language_info": {
   "codemirror_mode": {
    "name": "ipython",
    "version": 3
   },
   "file_extension": ".py",
   "mimetype": "text/x-python",
   "name": "python",
   "nbconvert_exporter": "python",
   "pygments_lexer": "ipython3",
   "version": "3.5.6"
  },
  "vscode": {
   "interpreter": {
    "hash": "b2b7392df95a1b2a3624263a7685fb75ae4246de96780a7f50d5bb8944d0ef39"
   }
  }
 },
 "nbformat": 4,
 "nbformat_minor": 0
}
